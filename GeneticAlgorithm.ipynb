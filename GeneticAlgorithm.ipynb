{
 "cells": [
  {
   "cell_type": "markdown",
   "metadata": {},
   "source": [
    "# Simple Genetic Algorithm\n",
    "This notebook contains a genetic algorithm trying to reach a sentence (optimum DNA) from random strings over generations with help of mating, crossover and mutation."
   ]
  },
  {
   "cell_type": "markdown",
   "metadata": {},
   "source": [
    "# Outline of notebook\n",
    "#### 1 - Initialize \n",
    "\t- Start N random DNA’ed sentences with fixed length\n",
    "#### 2 - Selection\n",
    "\t- Calculate fitness for each sentences\n",
    "\t- Create mating pool wrt fitness scores\n",
    "#### 3 - Reproduce\n",
    "\t- Select 2 parents\n",
    "    - Crossover\n",
    "    - Mutation\n",
    "    - Add new child to population\n",
    "#### 4 - Replace (main part)\n",
    "    - Replace old population with new\n",
    "\t- Return to step 2 (N times).\n",
    "#### 5 - Plots\n",
    "    - Some plots to see progress over generations"
   ]
  },
  {
   "cell_type": "markdown",
   "metadata": {},
   "source": [
    "## 1 - Initialize\n",
    "    - N random sentences are created with fixed length of given sentence.\n",
    "    - Only lowercase letters and space."
   ]
  },
  {
   "cell_type": "code",
   "execution_count": 1,
   "metadata": {},
   "outputs": [],
   "source": [
    "from matplotlib import pyplot as plt\n",
    "from random import randint\n",
    "from numpy.random import choice\n",
    "import random, string\n",
    "from numpy import mean\n",
    "import time\n",
    "import numpy as np\n",
    "\n",
    "#all_chars = string.ascii_uppercase + string.ascii_lowercase + string.digits + \" \"\n",
    "all_chars = string.ascii_lowercase + \" \""
   ]
  },
  {
   "cell_type": "code",
   "execution_count": 2,
   "metadata": {},
   "outputs": [],
   "source": [
    "def generate_random_sentence(fix_len,all_chars):\n",
    "    return ''.join(random.choice(all_chars) for _ in range(fix_len))\n",
    "\n",
    "def initialize(real_sentence,N):\n",
    "    fix_len = len(real_sentence)\n",
    "    population = []\n",
    "    \n",
    "    for i in range(N):\n",
    "        sentence = generate_random_sentence(fix_len,all_chars)\n",
    "        population.append(sentence)\n",
    "    return population"
   ]
  },
  {
   "cell_type": "markdown",
   "metadata": {},
   "source": [
    "# 2 - Selection\n",
    "\n",
    "- Calculate fitness\n",
    "- Create mating pool wrt fitness scores."
   ]
  },
  {
   "cell_type": "code",
   "execution_count": 3,
   "metadata": {},
   "outputs": [],
   "source": [
    "def fitness(sen1, sen2):\n",
    "    if len(sen1) != len(sen2):\n",
    "        print(\"Error, length of sentences must be the same.\\nSentence 1: \" + sen1 +\"\\nSentence 2: \" + sen2)\n",
    "        return -1,-1\n",
    "    score = 0\n",
    "    for ind,elem in enumerate(sen1):\n",
    "        if sen2[ind] == elem:\n",
    "            score += 1\n",
    "    percentage_score = 1.0*score/len(sen1)\n",
    "    return score, percentage_score"
   ]
  },
  {
   "cell_type": "code",
   "execution_count": 4,
   "metadata": {},
   "outputs": [
    {
     "data": {
      "text/plain": [
       "(3, 0.6)"
      ]
     },
     "execution_count": 4,
     "metadata": {},
     "output_type": "execute_result"
    }
   ],
   "source": [
    "fitness(\"ahmet\", 'ahmak')"
   ]
  },
  {
   "cell_type": "code",
   "execution_count": 5,
   "metadata": {},
   "outputs": [],
   "source": [
    "def selection(population,real_sentence):\n",
    "    current_total_score = 0\n",
    "    list_of_scores = []\n",
    "\n",
    "    for sentence in population:\n",
    "        score, percentage_score = fitness(real_sentence,sentence)\n",
    "        current_total_score += score*score\n",
    "        list_of_scores.append(score)\n",
    "    \n",
    "    # Probability distribution by \"squares of points\". \n",
    "    prob_dist = [(x*x) / current_total_score for x in list_of_scores]\n",
    "    return list_of_scores, prob_dist"
   ]
  },
  {
   "cell_type": "markdown",
   "metadata": {},
   "source": [
    "# 3 - Reproduce N times\n",
    "    - Pick 2 parents\n",
    "    - Crossover\n",
    "    - Mutation\n",
    "    - Add new child to new population"
   ]
  },
  {
   "cell_type": "code",
   "execution_count": 6,
   "metadata": {},
   "outputs": [],
   "source": [
    "def crossover(sen1,sen2):\n",
    "    # 3 to 10 crossover points\n",
    "    n_co_points = min(len(sen1)/2, random.randrange(3,10))\n",
    "    co_points = sorted(random.sample(range(1, len(sen1)), n_co_points))\n",
    "    \n",
    "    res = \"\"\n",
    "    prev = 0\n",
    "    for ind, co_point in enumerate(co_points):\n",
    "        if ind%2:\n",
    "            res += sen1[prev:co_point]\n",
    "        else:\n",
    "            res += sen2[prev:co_point]\n",
    "        prev = co_point\n",
    "    res += sen2[prev:]\n",
    "    return res   \n",
    "    \n",
    "def mutation(sentence, percentage):\n",
    "    \n",
    "    for ind,elem in enumerate(sentence):\n",
    "        rand = random.random()*10000\n",
    "        if rand<=percentage*100:\n",
    "            rand_char = ''.join(random.choice(all_chars))\n",
    "            sentence = sentence[:ind] + rand_char[0] + sentence[ind+1:]\n",
    "    \n",
    "    return sentence"
   ]
  },
  {
   "cell_type": "code",
   "execution_count": 7,
   "metadata": {},
   "outputs": [],
   "source": [
    "def reproduce(population,list_of_scores,mutation_percentage=1):\n",
    "    \n",
    "    avg_generation_score = mean(list_of_scores)\n",
    "    new_population = []\n",
    "    # All draws at once for efficiency\n",
    "    draw = choice(population, 2*N, p=prob_dist)\n",
    "    \n",
    "    for i in range(N):\n",
    "        child = crossover(draw[2*i],draw[2*i+1])\n",
    "        child = mutation(child,mutation_percentage)\n",
    "        new_population.append(child)\n",
    "    \n",
    "    return avg_generation_score, new_population"
   ]
  },
  {
   "cell_type": "code",
   "execution_count": 8,
   "metadata": {},
   "outputs": [],
   "source": [
    "def sort_together(list1,list2):\n",
    "    list1, list2 = zip(*sorted(zip(list1, list2),reverse=True))\n",
    "    return list1,list2"
   ]
  },
  {
   "cell_type": "markdown",
   "metadata": {},
   "source": [
    "# 4 - Replace (main part)\n",
    "    This is the main part of the algorithm where all methods are called.\n",
    "    - Initialize\n",
    "    - Selection\n",
    "    - Reproduction\n",
    "    - Replace for the next generation\n",
    "    - Go to \"selection\" part"
   ]
  },
  {
   "cell_type": "code",
   "execution_count": 9,
   "metadata": {
    "scrolled": false
   },
   "outputs": [
    {
     "name": "stdout",
     "output_type": "stream",
     "text": [
      "Real sentence: a creative man is motivated by the desire to achieve not by the desire to beat others\n",
      "\n",
      "Length of real sentence: 85\n",
      "\n",
      "# of generations: 250\n",
      "Population: 1000\n",
      "Mutation percentage: % 0.01\n",
      "\n",
      "0 th gen.\tAvg: 3.148 \tBest: (10, 9, 9, 9) \tWorst: (0, 0, 0, 0)\n",
      "25 th gen.\tAvg: 32.38 \tBest: (45, 44, 43, 43) \tWorst: (22, 21, 21, 21)\n",
      "50 th gen.\tAvg: 51.626 \tBest: (63, 62, 62, 61) \tWorst: (41, 40, 39, 39)\n",
      "75 th gen.\tAvg: 63.056 \tBest: (74, 73, 72, 71) \tWorst: (53, 52, 52, 52)\n",
      "100 th gen.\tAvg: 70.562 \tBest: (79, 79, 79, 79) \tWorst: (62, 62, 62, 61)\n",
      "125 th gen.\tAvg: 75.69 \tBest: (82, 81, 81, 81) \tWorst: (69, 68, 68, 68)\n",
      "150 th gen.\tAvg: 78.686 \tBest: (84, 84, 83, 83) \tWorst: (73, 73, 73, 72)\n",
      "175 th gen.\tAvg: 80.486 \tBest: (84, 84, 84, 83) \tWorst: (76, 76, 75, 74)\n",
      "200 th gen.\tAvg: 81.329 \tBest: (84, 84, 84, 84) \tWorst: (77, 77, 77, 76)\n",
      "225 th gen.\tAvg: 81.862 \tBest: (84, 84, 84, 84) \tWorst: (78, 78, 78, 78)\n",
      "250 th gen.\tAvg: 82.427 \tBest: (84, 84, 84, 84) \tWorst: (80, 80, 79, 79)\n",
      "\n",
      "Runtime: 24.567353010177612 seconds\n"
     ]
    }
   ],
   "source": [
    "t_start = time.time()\n",
    "\n",
    "# Number of generations\n",
    "n_generations = 250\n",
    "# Size of the population\n",
    "N = 1000\n",
    "# Optimum DNA\n",
    "real_sentence = \"a creative man is motivated by the desire to achieve not by the desire to beat others\"\n",
    "# Mutation percentage (pick between 0 and 100)\n",
    "mut_per = 0.01\n",
    "\n",
    "print('Real sentence:',real_sentence)\n",
    "print('\\nLength of real sentence:',len(real_sentence))\n",
    "print()\n",
    "print('# of generations:',n_generations)\n",
    "print('Population:',N)\n",
    "print('Mutation percentage: %',mut_per)\n",
    "print()\n",
    "\n",
    "#Initialize\n",
    "population = initialize(real_sentence,N)\n",
    "\n",
    "# Lists below are only for reporting some generations\n",
    "all_scores = []\n",
    "avg_scores = []\n",
    "best_sentences = []\n",
    "best_scores    = []\n",
    "worst_sentences= []\n",
    "worst_scores   = []\n",
    "\n",
    "for i in range(n_generations+1):\n",
    "\n",
    "    # Selection\n",
    "    list_of_scores, prob_dist = selection(population,real_sentence)\n",
    "    sorted_scores,sorted_sentences = sort_together(list_of_scores,population)\n",
    "\n",
    "    # Reproduction\n",
    "    avg_generation_score, new_population = reproduce(population,list_of_scores,mut_per)\n",
    "\n",
    "    # Replace\n",
    "    population = new_population\n",
    "    \n",
    "    # Report some generations\n",
    "    if(i%(n_generations/10)==0):\n",
    "        all_scores.append(sorted_scores)\n",
    "        \n",
    "        best_scores.append(sorted_scores[0])\n",
    "        best_sentences.append(sorted_sentences[0])\n",
    "        \n",
    "        worst_scores.append(sorted_scores[-1])\n",
    "        worst_sentences.append(sorted_sentences[-1])\n",
    "        \n",
    "        avg_scores.append(avg_generation_score)\n",
    "\n",
    "        print(i,'th gen.\\tAvg:',avg_generation_score,'\\tBest:',sorted_scores[:4],\n",
    "              '\\tWorst:',sorted_scores[-4:])\n",
    "        \n",
    "t_end = time.time()\n",
    "print('\\nRuntime:',(t_end-t_start),'seconds')"
   ]
  },
  {
   "cell_type": "code",
   "execution_count": 10,
   "metadata": {},
   "outputs": [
    {
     "data": {
      "text/plain": [
       "('f creative man is motivated by the desire to achieve not by the desire to beat others',\n",
       " 'f creative man is motivated by the desire to achieve not by the desire to beat others',\n",
       " 'f creative man is motivated by the desire to achieve not by the desire to beat others',\n",
       " 'f creative man is motivated by the desire to achieve not by the desire to beat others',\n",
       " 'f creative man is motivated by the desire to achieve not by the desire to beat others')"
      ]
     },
     "execution_count": 10,
     "metadata": {},
     "output_type": "execute_result"
    }
   ],
   "source": [
    "list_of_scores, prob_dist = selection(population,real_sentence)\n",
    "sorted_scores, sorted_sentences = sort_together(list_of_scores, population)\n",
    "sorted_sentences[:5]"
   ]
  },
  {
   "cell_type": "markdown",
   "metadata": {},
   "source": [
    "## Best and worst sentences over generations"
   ]
  },
  {
   "cell_type": "code",
   "execution_count": 11,
   "metadata": {},
   "outputs": [
    {
     "name": "stdout",
     "output_type": "stream",
     "text": [
      "Best sentences over generations:\n",
      "\n",
      "0 \t lqpzzrjixklplubjngioqrazoprl kjqkzelmsbdpqnohsfaqovceqncomy faeuy apttamcnvqatouckqgt\n",
      "25 \t asczhahmvh macnssnmodivntutpbyjphufzescnv tohacaieeeitot ec rue desore oo fqat otfycv\n",
      "50 \t f crgajive mad is momivatjjpby thjodusirh bo byhceve tot by the dedire do weat obyers\n",
      "75 \t fscreatfve man is motivatfl by thl desiro to achievienot by the desire tm beat otyers\n",
      "100 \t f crhative aan is motivated by the dusiro to achieve not by the desire to beat otyers\n",
      "125 \t f creative man is motivated by the desirq to achieve not by the desire to beat otyers\n",
      "150 \t f creative man is motivated by the desire to achieve not by the desire to beat others\n",
      "175 \t f creative man is motivated by the desire to achieve not by the desire to beat others\n",
      "200 \t f creative man is motivated by the desire to achieve not by the desire to beat others\n",
      "225 \t f creative man is motivated by the desire to achieve not by the desire to beat others\n",
      "250 \t f creative man is motivated by the desire to achieve not by the desire to beat others\n"
     ]
    }
   ],
   "source": [
    "print(\"Best sentences over generations:\\n\")\n",
    "for i in range(len(best_sentences)):\n",
    "    print(int(i*(n_generations/10)),'\\t',best_sentences[i])"
   ]
  },
  {
   "cell_type": "code",
   "execution_count": 12,
   "metadata": {},
   "outputs": [
    {
     "name": "stdout",
     "output_type": "stream",
     "text": [
      "Worst sentences over generations:\n",
      "\n",
      "0 \t  pjckerdfzxiyulqdzsbebaexbfkzsbbpudrcbrlucaucvrkldftctlocyuxjvne hkoyuzupirwqodnzgzem\n",
      "25 \t kwccqaymms rdnuxnhlbka stujrqypfhgqsvviejnmxeacvwereeqot tyy axzdjsvwfboomfeda  wlvfq\n",
      "50 \t ulcfqajrvhiaavnsdzmotytatfdmbx thwpdhjfrx nohkhlceve qat ms rhe dedirebto qqau owccnb\n",
      "75 \t f crkatila mat iszmklipatudwoy thezzesirxsmo am rjcdpnot by tpetdesirezdmqweat owyers\n",
      "100 \t c crhajsvm man ss motivaibcyby thekdeserx to achizve nst my fae desiae lo beot owheoc\n",
      "125 \t c caeaiive ran is motivktoj by thwydesirh toeachieve not by the desirezto bezt owyepc\n",
      "150 \t f crkative tln is mokivatbd byrthe desirv tx ayhieve qot by the desire to beat ogkers\n",
      "175 \t a co ative aan is mokivatfd by the desirx no achieve not by the desire do beat ogkerr\n",
      "200 \t f cveavive man is motipated by the desfrv to achieve uot by the dtsire to beat otheos\n",
      "225 \t f creajive man is motixatbd by the delirx to achieve wot by the desire to beat others\n",
      "250 \t f crhative man is motivatedhby the desirx to achieve not by the denire to eeat others\n"
     ]
    }
   ],
   "source": [
    "print(\"Worst sentences over generations:\\n\")\n",
    "for i in range(len(worst_sentences)):\n",
    "    print(int(i*(n_generations/10)),'\\t',worst_sentences[i])"
   ]
  },
  {
   "cell_type": "markdown",
   "metadata": {},
   "source": [
    "# Plots\n",
    "## Best and worst fitness scores over generations"
   ]
  },
  {
   "cell_type": "code",
   "execution_count": 13,
   "metadata": {},
   "outputs": [
    {
     "data": {
      "image/png": "[encoded data removed]",
      "text/plain": [
       "<matplotlib.figure.Figure at 0x109c1c908>"
      ]
     },
     "metadata": {},
     "output_type": "display_data"
    }
   ],
   "source": [
    "plt.figure(figsize=(8,8))\n",
    "\n",
    "plt.plot(np.arange(0,n_generations*11/10,n_generations/10),np.array(best_scores)/len(real_sentence),'blue',label='Bests')\n",
    "plt.plot(np.arange(0,n_generations*11/10,n_generations/10),np.array(worst_scores)/len(real_sentence),'red',label='Worsts')\n",
    "plt.plot(np.arange(0,n_generations*11/10,n_generations/10),np.array(avg_scores)/len(real_sentence),'green',label=\"Averages\")\n",
    "\n",
    "plt.legend()\n",
    "plt.xlabel('Generation')\n",
    "plt.ylabel('Fitness Score')\n",
    "\n",
    "plt.show()"
   ]
  },
  {
   "cell_type": "markdown",
   "metadata": {},
   "source": [
    "## All fitness scores of all sentences over generations"
   ]
  },
  {
   "cell_type": "code",
   "execution_count": 14,
   "metadata": {},
   "outputs": [
    {
     "data": {
      "image/png": "[encoded data removed]",
      "text/plain": [
       "<matplotlib.figure.Figure at 0x109c1c7b8>"
      ]
     },
     "metadata": {},
     "output_type": "display_data"
    }
   ],
   "source": [
    "plt.figure(figsize=(8,8))\n",
    "\n",
    "for ind,elem in enumerate(all_scores):\n",
    "    inc = np.array(sorted(elem))/len(real_sentence)\n",
    "    plt.plot(np.arange(N),inc,label=str(int(ind*n_generations/10))+'th gen.')\n",
    "\n",
    "plt.legend(loc=(1.04,0))\n",
    "plt.xlabel('Population')\n",
    "plt.ylabel('Fitness Score')\n",
    "\n",
    "plt.show()"
   ]
  },
  {
   "cell_type": "markdown",
   "metadata": {},
   "source": [
    "## Cost is O(L\\*G\\*P)\n",
    "- L: lenght of sentence\n",
    "- G: generation number\n",
    "- P: population size"
   ]
  },
  {
   "cell_type": "code",
   "execution_count": null,
   "metadata": {},
   "outputs": [],
   "source": []
  },
  {
   "cell_type": "code",
   "execution_count": null,
   "metadata": {},
   "outputs": [],
   "source": []
  },
  {
   "cell_type": "code",
   "execution_count": null,
   "metadata": {},
   "outputs": [],
   "source": []
  },
  {
   "cell_type": "code",
   "execution_count": null,
   "metadata": {},
   "outputs": [],
   "source": []
  },
  {
   "cell_type": "code",
   "execution_count": null,
   "metadata": {},
   "outputs": [],
   "source": []
  }
 ],
 "metadata": {
  "kernelspec": {
   "display_name": "Python 3",
   "language": "python",
   "name": "python3"
  },
  "language_info": {
   "codemirror_mode": {
    "name": "ipython",
    "version": 3
   },
   "file_extension": ".py",
   "mimetype": "text/x-python",
   "name": "python",
   "nbconvert_exporter": "python",
   "pygments_lexer": "ipython3",
   "version": "3.6.4"
  }
 },
 "nbformat": 4,
 "nbformat_minor": 2
}
