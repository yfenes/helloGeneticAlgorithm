{
 "cells": [
  {
   "cell_type": "markdown",
   "metadata": {},
   "source": [
    "# Simple Genetic Algorithm\n",
    "This notebook contains a genetic algorithm trying to reach a sentence (optimum DNA) from random strings over generations with help of mating, crossover and mutation."
   ]
  },
  {
   "cell_type": "markdown",
   "metadata": {},
   "source": [
    "# Outline of notebook\n",
    "#### 1 - Initialize \n",
    "\t- Start N random DNA’ed sentences with fixed length\n",
    "#### 2 - Selection\n",
    "\t- Calculate fitness for each sentences\n",
    "\t- Create mating pool wrt fitness scores\n",
    "#### 3 - Reproduce\n",
    "\t- Select 2 parents\n",
    "    - Crossover\n",
    "    - Mutation\n",
    "    - Add new child to population\n",
    "#### 4 - Replace (main part)\n",
    "    - Replace old population with new\n",
    "\t- Return to step 2 (N times).\n",
    "#### 5 - Plots\n",
    "    - Some plots to see progress over generations"
   ]
  },
  {
   "cell_type": "markdown",
   "metadata": {},
   "source": [
    "## 1 - Initialize\n",
    "    - N random sentences are created with fixed length of given sentence.\n",
    "    - Only lowercase letters and space."
   ]
  },
  {
   "cell_type": "code",
   "execution_count": 1,
   "metadata": {},
   "outputs": [],
   "source": [
    "from matplotlib import pyplot as plt\n",
    "from random import randint\n",
    "from numpy.random import choice\n",
    "import random, string\n",
    "from numpy import mean\n",
    "import time\n",
    "import numpy as np\n",
    "\n",
    "#all_chars = string.ascii_uppercase + string.ascii_lowercase + string.digits + \" \"\n",
    "all_chars = string.ascii_lowercase + \" \""
   ]
  },
  {
   "cell_type": "code",
   "execution_count": 2,
   "metadata": {},
   "outputs": [],
   "source": [
    "def generate_random_sentence(fix_len,all_chars):\n",
    "    return ''.join(random.choice(all_chars) for _ in range(fix_len))\n",
    "\n",
    "def initialize(real_sentence,N):\n",
    "    fix_len = len(real_sentence)\n",
    "    population = []\n",
    "    \n",
    "    for i in range(N):\n",
    "        sentence = generate_random_sentence(fix_len,all_chars)\n",
    "        population.append(sentence)\n",
    "    return population"
   ]
  },
  {
   "cell_type": "markdown",
   "metadata": {},
   "source": [
    "# 2 - Selection\n",
    "\n",
    "- Calculate fitness\n",
    "- Create mating pool wrt fitness scores."
   ]
  },
  {
   "cell_type": "code",
   "execution_count": 3,
   "metadata": {},
   "outputs": [],
   "source": [
    "def fitness(sen1, sen2):\n",
    "    if len(sen1) != len(sen2):\n",
    "        print(\"Error, length of sentences must be the same.\\nSentence 1: \" + sen1 +\"\\nSentence 2: \" + sen2)\n",
    "        return 0,0\n",
    "    score = 0\n",
    "    for ind,elem in enumerate(sen1):\n",
    "        if sen2[ind] == elem:\n",
    "            score += 1\n",
    "    percentage_score = 1.0*score/len(sen1)\n",
    "    return score, percentage_score"
   ]
  },
  {
   "cell_type": "code",
   "execution_count": 4,
   "metadata": {},
   "outputs": [
    {
     "data": {
      "text/plain": [
       "(3, 0.6)"
      ]
     },
     "execution_count": 4,
     "metadata": {},
     "output_type": "execute_result"
    }
   ],
   "source": [
    "fitness(\"ahmet\", 'ahmak')"
   ]
  },
  {
   "cell_type": "code",
   "execution_count": 5,
   "metadata": {},
   "outputs": [],
   "source": [
    "def selection(population,real_sentence):\n",
    "    current_total_score = 0\n",
    "    list_of_scores = []\n",
    "\n",
    "    for sentence in population:\n",
    "        score, percentage_score = fitness(real_sentence,sentence)\n",
    "        current_total_score += score\n",
    "        list_of_scores.append(score)\n",
    "\n",
    "    prob_dist = [x / current_total_score for x in list_of_scores]\n",
    "    return list_of_scores, prob_dist"
   ]
  },
  {
   "cell_type": "markdown",
   "metadata": {},
   "source": [
    "# 3 - Reproduce N times\n",
    "    - Pick 2 parents\n",
    "    - Crossover\n",
    "    - Mutation\n",
    "    - Add new child to new population"
   ]
  },
  {
   "cell_type": "code",
   "execution_count": 6,
   "metadata": {},
   "outputs": [],
   "source": [
    "def crossover(sen1,sen2):\n",
    "    pos = int(random.random()*len(sen1))\n",
    "    return sen1[:pos]+sen2[pos:]\n",
    "\n",
    "def mutation(sentence, percentage):\n",
    "    for ind,elem in enumerate(sentence):\n",
    "        rand = randint(1,10000)\n",
    "        if rand<=percentage*100:\n",
    "            rand_char = ''.join(random.choice(all_chars))\n",
    "            sentence = sentence[:ind] + rand_char[0] + sentence[ind+1:]\n",
    "    return sentence"
   ]
  },
  {
   "cell_type": "code",
   "execution_count": 7,
   "metadata": {},
   "outputs": [],
   "source": [
    "def reproduce(population,real_sentence,mutation_percentage=1):\n",
    "    \n",
    "    avg_generation_score = mean(list_of_scores)\n",
    "    new_population = []\n",
    "    # All draws at once for efficiency\n",
    "    draw = choice(population, 2*N, p=prob_dist)\n",
    "    \n",
    "    for i in range(N):\n",
    "        child = crossover(draw[2*i],draw[2*i+1])\n",
    "        child = mutation(child,mutation_percentage)\n",
    "        new_population.append(child)\n",
    "    \n",
    "    return avg_generation_score, new_population"
   ]
  },
  {
   "cell_type": "code",
   "execution_count": 8,
   "metadata": {},
   "outputs": [],
   "source": [
    "def sort_together(list1,list2):\n",
    "    list1, list2 = zip(*sorted(zip(list1, list2),reverse=True))\n",
    "    return list1,list2"
   ]
  },
  {
   "cell_type": "markdown",
   "metadata": {},
   "source": [
    "# 4 - Replace (main part)\n",
    "    This is the main part of the algorithm where all methods are called.\n",
    "    - Initialize\n",
    "    - Selection\n",
    "    - Reproduction\n",
    "    - Replace for the next generation\n",
    "    - Go to \"selection\" part"
   ]
  },
  {
   "cell_type": "code",
   "execution_count": 41,
   "metadata": {
    "scrolled": false
   },
   "outputs": [
    {
     "name": "stdout",
     "output_type": "stream",
     "text": [
      "Real sentence: be the change that you wish to see in the world\n",
      "Length of real sentence: 47\n",
      "\n",
      "# of generations: 250\n",
      "Population: 2000\n",
      "Mutation percentage: % 0.01\n",
      "\n",
      "0 th gen.\tAvg Score: 1.7145 \tBest: (7, 6, 6, 6) \tWorst (0, 0, 0, 0)\n",
      "25 th gen.\tAvg Score: 16.25 \tBest: (25, 24, 24, 24) \tWorst (8, 8, 8, 7)\n",
      "50 th gen.\tAvg Score: 25.779 \tBest: (35, 34, 34, 34) \tWorst (17, 17, 17, 15)\n",
      "75 th gen.\tAvg Score: 32.126 \tBest: (40, 40, 40, 40) \tWorst (24, 24, 24, 23)\n",
      "100 th gen.\tAvg Score: 37.103 \tBest: (45, 44, 43, 43) \tWorst (29, 29, 29, 27)\n",
      "125 th gen.\tAvg Score: 40.583 \tBest: (46, 46, 46, 46) \tWorst (34, 34, 31, 31)\n",
      "150 th gen.\tAvg Score: 42.8635 \tBest: (47, 47, 47, 47) \tWorst (37, 37, 36, 36)\n",
      "175 th gen.\tAvg Score: 44.399 \tBest: (47, 47, 47, 47) \tWorst (39, 39, 39, 39)\n",
      "200 th gen.\tAvg Score: 45.117 \tBest: (47, 47, 47, 47) \tWorst (41, 41, 41, 40)\n",
      "225 th gen.\tAvg Score: 45.7315 \tBest: (47, 47, 47, 47) \tWorst (40, 40, 40, 39)\n",
      "250 th gen.\tAvg Score: 46.0415 \tBest: (47, 47, 47, 47) \tWorst (43, 43, 42, 42)\n",
      "\n",
      "Runtime: 96.93067908287048 seconds\n"
     ]
    }
   ],
   "source": [
    "t_start = time.time()\n",
    "\n",
    "# Number of generations\n",
    "n_generations = 250\n",
    "# Size of the population\n",
    "N = 2000\n",
    "# Optimum DNA\n",
    "real_sentence = \"be the change that you wish to see in the world\"\n",
    "# Mutation percentage\n",
    "mut_per = 0.01\n",
    "\n",
    "print('Real sentence:',real_sentence)\n",
    "print('Length of real sentence:',len(real_sentence))\n",
    "print()\n",
    "print('# of generations:',n_generations)\n",
    "print('Population:',N)\n",
    "print('Mutation percentage: %',mut_per)\n",
    "print()\n",
    "\n",
    "#Initialize\n",
    "population = initialize(real_sentence,N)\n",
    "\n",
    "# Lists below are only for reporting some generations\n",
    "all_scores = []\n",
    "avg_scores = []\n",
    "best_sentences = []\n",
    "best_scores    = []\n",
    "worst_sentences= []\n",
    "worst_scores   = []\n",
    "\n",
    "for i in range(n_generations+1):\n",
    "    \n",
    "    # Selection\n",
    "    list_of_scores, prob_dist = selection(population,real_sentence)\n",
    "    sorted_scores,sorted_sentences = sort_together(list_of_scores,population)\n",
    "    \n",
    "    # Reproduction\n",
    "    avg_generation_score, new_population = reproduce(population,real_sentence,mut_per)\n",
    "    #avg_scores.append(avg_generation_score)\n",
    "    \n",
    "    # Replace\n",
    "    population = new_population\n",
    "    \n",
    "    # Report some generations\n",
    "    if(i%(n_generations/10)==0):\n",
    "        all_scores.append(sorted_scores)\n",
    "        \n",
    "        best_scores.append(sorted_scores[0])\n",
    "        best_sentences.append(sorted_sentences[0])\n",
    "        \n",
    "        worst_scores.append(sorted_scores[-1])\n",
    "        worst_sentences.append(sorted_sentences[-1])\n",
    "        \n",
    "        avg_scores.append(avg_generation_score)\n",
    "\n",
    "        print(i,'th gen.\\tAvg Score:',avg_generation_score,'\\tBest:',sorted_scores[:4],\n",
    "              '\\tWorst',sorted_scores[-4:])\n",
    "        \n",
    "t_end = time.time()\n",
    "print('\\nRuntime:',(t_end-t_start),'seconds')"
   ]
  },
  {
   "cell_type": "markdown",
   "metadata": {},
   "source": [
    "## Best and worst sentences over generations"
   ]
  },
  {
   "cell_type": "code",
   "execution_count": 42,
   "metadata": {},
   "outputs": [
    {
     "name": "stdout",
     "output_type": "stream",
     "text": [
      "Best sentences over generations:\n",
      "\n",
      "\t dcnqwkenvtgllwqvz zicd zishbeoofumfknztjvsbuucc\n",
      "\t qf tlwkchafgy bhateooc wish te heb pn tr dpgdwd\n",
      "\t be tpe cvagge bhatkyom wish tooseb pn tkeow rld\n",
      "\t ne tpe chafgy thax you wish to seb in the wodld\n",
      "\t be the change that you wish te sei in the world\n",
      "\t be the rhange that you wish to see in the world\n",
      "\t be the change that you wish to see in the world\n",
      "\t be the change that you wish to see in the world\n",
      "\t be the change that you wish to see in the world\n",
      "\t be the change that you wish to see in the world\n",
      "\t be the change that you wish to see in the world\n"
     ]
    }
   ],
   "source": [
    "print(\"Best sentences over generations:\\n\")\n",
    "for i in range(len(best_sentences)):\n",
    "    print('\\t',best_sentences[i])"
   ]
  },
  {
   "cell_type": "code",
   "execution_count": 43,
   "metadata": {},
   "outputs": [
    {
     "name": "stdout",
     "output_type": "stream",
     "text": [
      "Worst sentences over generations:\n",
      "\n",
      "\t  bcpiljmizhbbgxxubynymyoewkwiyejkhmrgkoeofyigvp\n",
      "\t cfwx sgeojpgy tytznhcd opdcjtooipl pqyfwybrugwj\n",
      "\t  jltpq e jpgqptaatkytuhpydcbtooski pnzt mfupalb\n",
      "\t be qap c zfgy tbwu gdm zisk tooseidpnotrx wculd\n",
      "\t zfipkg cvzfgy thau ysn wish te xjb in ty gworld\n",
      "\t be qjs ehagge thztkyojgzish te xei pn cre world\n",
      "\t beqqje c aggy thatkyou wish to seo pn thefwortd\n",
      "\t be the chunge thau yim wish to qeb pn tte world\n",
      "\t be the chuhge that kom wish to fee in the wonlf\n",
      "\t be ehe change thateyou wish eo seb ix thefzortd\n",
      "\t be the chafge thateyou pish to see qn the wortd\n"
     ]
    }
   ],
   "source": [
    "print(\"Worst sentences over generations:\\n\")\n",
    "for i in range(len(worst_sentences)):\n",
    "    print('\\t',worst_sentences[i])"
   ]
  },
  {
   "cell_type": "markdown",
   "metadata": {},
   "source": [
    "# Plots\n",
    "## Best and worst fitness scores over generations"
   ]
  },
  {
   "cell_type": "code",
   "execution_count": 44,
   "metadata": {},
   "outputs": [
    {
     "data": {
      "image/png": "[encoded data removed]",
      "text/plain": [
       "<matplotlib.figure.Figure at 0x10b5f9a58>"
      ]
     },
     "metadata": {},
     "output_type": "display_data"
    }
   ],
   "source": [
    "plt.figure(figsize=(8,8))\n",
    "\n",
    "plt.plot(np.arange(0,n_generations*11/10,n_generations/10),np.array(best_scores)/len(real_sentence),'blue',label='Bests')\n",
    "plt.plot(np.arange(0,n_generations*11/10,n_generations/10),np.array(worst_scores)/len(real_sentence),'red',label='Worsts')\n",
    "plt.plot(np.arange(0,n_generations*11/10,n_generations/10),np.array(avg_scores)/len(real_sentence),'green',label=\"Averages\")\n",
    "\n",
    "plt.legend()\n",
    "plt.xlabel('Generation')\n",
    "plt.ylabel('Fitness Score')\n",
    "\n",
    "plt.show()"
   ]
  },
  {
   "cell_type": "markdown",
   "metadata": {},
   "source": [
    "## All fitness scores of all sentences over generations"
   ]
  },
  {
   "cell_type": "code",
   "execution_count": 45,
   "metadata": {},
   "outputs": [
    {
     "data": {
      "image/png": "[encoded data removed]",
      "text/plain": [
       "<matplotlib.figure.Figure at 0x10b3688d0>"
      ]
     },
     "metadata": {},
     "output_type": "display_data"
    }
   ],
   "source": [
    "plt.figure(figsize=(8,8))\n",
    "\n",
    "for ind,elem in enumerate(all_scores):\n",
    "    inc = np.array(sorted(elem))/len(real_sentence)\n",
    "    plt.plot(np.arange(N),inc,label=str(int(ind*n_generations/10))+'th gen.')\n",
    "\n",
    "plt.legend(loc=(1.04,0))\n",
    "plt.xlabel('Population')\n",
    "plt.ylabel('Fitness Score')\n",
    "\n",
    "plt.show()"
   ]
  },
  {
   "cell_type": "markdown",
   "metadata": {},
   "source": [
    "## Cost is O(L\\*G\\*P)\n",
    "- L: lenght of sentence\n",
    "- G: generation number\n",
    "- P: population size"
   ]
  },
  {
   "cell_type": "code",
   "execution_count": 46,
   "metadata": {},
   "outputs": [
    {
     "name": "stdout",
     "output_type": "stream",
     "text": [
      "23.5 million\n"
     ]
    }
   ],
   "source": [
    "print(len(real_sentence)*n_generations*N/1000000,'million')"
   ]
  },
  {
   "cell_type": "code",
   "execution_count": null,
   "metadata": {},
   "outputs": [],
   "source": []
  },
  {
   "cell_type": "code",
   "execution_count": null,
   "metadata": {},
   "outputs": [],
   "source": []
  }
 ],
 "metadata": {
  "kernelspec": {
   "display_name": "Python 3",
   "language": "python",
   "name": "python3"
  },
  "language_info": {
   "codemirror_mode": {
    "name": "ipython",
    "version": 3
   },
   "file_extension": ".py",
   "mimetype": "text/x-python",
   "name": "python",
   "nbconvert_exporter": "python",
   "pygments_lexer": "ipython3",
   "version": "3.6.4"
  }
 },
 "nbformat": 4,
 "nbformat_minor": 2
}
